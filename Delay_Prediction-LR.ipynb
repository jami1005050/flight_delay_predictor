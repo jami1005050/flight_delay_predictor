{
 "cells": [
  {
   "cell_type": "markdown",
   "id": "0b0ed94b",
   "metadata": {},
   "source": [
    "# Import Libraries"
   ]
  },
  {
   "cell_type": "code",
   "execution_count": 27,
   "id": "f0eff668",
   "metadata": {},
   "outputs": [],
   "source": [
    "from pyspark.sql import SparkSession\n",
    "from pyspark.sql.types import StructType, StructField, IntegerType, StringType\n",
    "from pyspark.sql.functions import round,col,desc,count\n",
    "from pyspark.ml.feature import StringIndexer\n",
    "from pyspark.ml.feature import VectorAssembler\n",
    "from pyspark.ml.classification import DecisionTreeClassifier\n",
    "from pyspark.ml.classification import LogisticRegression\n",
    "from pyspark.ml.evaluation import MulticlassClassificationEvaluator, BinaryClassificationEvaluator\n",
    "from pyspark.ml.regression import LinearRegression\n",
    "from pyspark.ml.linalg import Vectors\n",
    "from pyspark.ml.feature import VectorAssembler"
   ]
  },
  {
   "cell_type": "markdown",
   "id": "22e49cb4",
   "metadata": {},
   "source": [
    "# Session Creation\n",
    "<br>\n",
    "https://github.com/SuperJohn/spark-and-python-for-big-data-with-pyspark/blob/master/Spark_for_Machine_Learning/Linear_Regression/Linear_Regression_Code_Along.ipynb"
   ]
  },
  {
   "cell_type": "code",
   "execution_count": 28,
   "id": "bd8e897c",
   "metadata": {},
   "outputs": [],
   "source": [
    "spark = SparkSession.builder.master(\"local[*]\").config(\"spark.executor.memory\", \"70g\")\\\n",
    "     .config(\"spark.driver.memory\", \"50g\").config(\"spark.memory.offHeap.enabled\",True)\\\n",
    "     .config(\"spark.memory.offHeap.size\",\"16g\").appName(\"Flight_delay\").getOrCreate()\n",
    "\n",
    "\n",
    "# spark = SparkSession.builder.appName('Flight_delay').getOrCreate()"
   ]
  },
  {
   "cell_type": "markdown",
   "id": "45152e70",
   "metadata": {},
   "source": [
    "# Read Data"
   ]
  },
  {
   "cell_type": "code",
   "execution_count": 29,
   "id": "87e4a58c",
   "metadata": {},
   "outputs": [
    {
     "name": "stderr",
     "output_type": "stream",
     "text": [
      "\r",
      "                                                                                \r"
     ]
    }
   ],
   "source": [
    "Flight_Spark_frame  = spark.read.option('recursiveFileLookup','True').option(\"header\", \"true\")\\\n",
    "                        .csv(\"dataverse_files/*\")\n",
    "# Flight_Spark_frame.printSchema()"
   ]
  },
  {
   "cell_type": "code",
   "execution_count": 30,
   "id": "71405979",
   "metadata": {},
   "outputs": [
    {
     "name": "stdout",
     "output_type": "stream",
     "text": [
      "[('Year', 'string'), ('Month', 'string'), ('DayofMonth', 'string'), ('DayOfWeek', 'string'), ('DepTime', 'string'), ('CRSDepTime', 'string'), ('ArrTime', 'string'), ('CRSArrTime', 'string'), ('UniqueCarrier', 'string'), ('FlightNum', 'string'), ('TailNum', 'string'), ('ActualElapsedTime', 'string'), ('CRSElapsedTime', 'string'), ('AirTime', 'string'), ('ArrDelay', 'string'), ('DepDelay', 'string'), ('Origin', 'string'), ('Dest', 'string'), ('Distance', 'string'), ('TaxiIn', 'string'), ('TaxiOut', 'string'), ('Cancelled', 'string'), ('CancellationCode', 'string'), ('Diverted', 'string'), ('CarrierDelay', 'string'), ('WeatherDelay', 'string'), ('NASDelay', 'string'), ('SecurityDelay', 'string'), ('LateAircraftDelay', 'string')]\n"
     ]
    }
   ],
   "source": [
    "print(Flight_Spark_frame.dtypes)"
   ]
  },
  {
   "cell_type": "code",
   "execution_count": 31,
   "id": "f82ce90d",
   "metadata": {},
   "outputs": [],
   "source": [
    "carrier_Spark_frame  = spark.read.option(\"header\", \"true\").csv(\"carriers.csv\")\n",
    "plane_Spark_frame  = spark.read.option(\"header\", \"true\").csv(\"plane-data.csv\")\n",
    "airport_Spark_frame  = spark.read.option(\"header\", \"true\").csv(\"airports.csv\")"
   ]
  },
  {
   "cell_type": "code",
   "execution_count": 32,
   "id": "15d3ae6f",
   "metadata": {},
   "outputs": [
    {
     "name": "stdout",
     "output_type": "stream",
     "text": [
      "[('Code', 'string'), ('Description', 'string')]\n",
      "[('tailnum', 'string'), ('type', 'string'), ('manufacturer', 'string'), ('issue_date', 'string'), ('model', 'string'), ('status', 'string'), ('aircraft_type', 'string'), ('engine_type', 'string'), ('Pyear', 'string')]\n",
      "[('iata', 'string'), ('airport', 'string'), ('city', 'string'), ('state', 'string'), ('country', 'string'), ('lat', 'string'), ('long', 'string')]\n"
     ]
    }
   ],
   "source": [
    "print(carrier_Spark_frame.dtypes)\n",
    "plane_Spark_frame = plane_Spark_frame.withColumnRenamed(\"year\",\"Pyear\")\n",
    "print(plane_Spark_frame.dtypes)\n",
    "print(airport_Spark_frame.dtypes)"
   ]
  },
  {
   "cell_type": "code",
   "execution_count": 33,
   "id": "5de73707",
   "metadata": {},
   "outputs": [
    {
     "data": {
      "text/plain": [
       "DataFrame[tailnum: string, type: string, manufacturer: string, issue_date: string, model: string, status: string, aircraft_type: string, engine_type: string, Pyear: string]"
      ]
     },
     "execution_count": 33,
     "metadata": {},
     "output_type": "execute_result"
    }
   ],
   "source": [
    "plane_Spark_frame"
   ]
  },
  {
   "cell_type": "markdown",
   "id": "f785d4c4",
   "metadata": {},
   "source": [
    "# String Transfromation to Integer For Prediction"
   ]
  },
  {
   "cell_type": "code",
   "execution_count": 34,
   "id": "a14221dc",
   "metadata": {},
   "outputs": [],
   "source": [
    "Flight_Spark_frame = Flight_Spark_frame.withColumn(\"WeatherDelay\",col(\"WeatherDelay\").cast(IntegerType())) \\\n",
    "    .withColumn(\"NASDelay\",col(\"NASDelay\").cast(IntegerType())) \\\n",
    "    .withColumn(\"SecurityDelay\",col(\"SecurityDelay\").cast(IntegerType()))\\\n",
    "    .withColumn(\"LateAircraftDelay\",col(\"LateAircraftDelay\").cast(IntegerType()))\\\n",
    "    .withColumn(\"CarrierDelay\",col(\"CarrierDelay\").cast(IntegerType()))\\\n",
    "    .withColumn(\"ArrDelay\",col(\"ArrDelay\").cast(IntegerType()))\\\n",
    "    .withColumn(\"DepDelay\",col(\"DepDelay\").cast(IntegerType()))\\\n",
    "    .withColumn(\"Month\",col(\"Month\").cast(IntegerType()))\\\n",
    "    .withColumn(\"Year\",col(\"Year\").cast(IntegerType()))\\\n",
    "    .withColumn(\"DayOfWeek\",col(\"DayOfWeek\").cast(IntegerType()))\\\n",
    "    .withColumn(\"DayofMonth\",col(\"DayofMonth\").cast(IntegerType()))"
   ]
  },
  {
   "cell_type": "markdown",
   "id": "67f40217",
   "metadata": {},
   "source": [
    "# MERGE flight data with plane and airport "
   ]
  },
  {
   "cell_type": "code",
   "execution_count": 35,
   "id": "c3af7e1c",
   "metadata": {},
   "outputs": [],
   "source": [
    "plane_flight_data = Flight_Spark_frame.join(plane_Spark_frame,\"TailNum\",\"inner\")"
   ]
  },
  {
   "cell_type": "code",
   "execution_count": 36,
   "id": "43edfb2b",
   "metadata": {},
   "outputs": [],
   "source": [
    "# Departure Merge takes origin information \n",
    "plane_flight_dep_airport_data = plane_flight_data.withColumn(\"Origin\", col(\"Origin\")).\\\n",
    "                                join(airport_Spark_frame.withColumn(\"Origin\", col(\"iata\")), on=\"Origin\")\n",
    "# Arrival Merge takes destination information \n",
    "plane_flight_arr_airport_data = plane_flight_data.withColumn(\"Dest\", col(\"Dest\")).\\\n",
    "                                join(airport_Spark_frame.withColumn(\"Dest\", col(\"iata\")), on=\"Dest\")"
   ]
  },
  {
   "cell_type": "code",
   "execution_count": 1,
   "id": "322a6629",
   "metadata": {},
   "outputs": [],
   "source": [
    "# plane_flight_arr_airport_data.columns"
   ]
  },
  {
   "cell_type": "code",
   "execution_count": 38,
   "id": "a2164560",
   "metadata": {},
   "outputs": [
    {
     "data": {
      "text/plain": [
       "Row(Dest='PDX', TailNum='N611SW', Year=2007, Month=1, DayofMonth=1, DayOfWeek=1, DepTime='1430', CRSDepTime='1420', ArrTime='1553', CRSArrTime='1550', UniqueCarrier='WN', FlightNum='2386', ActualElapsedTime='83', CRSElapsedTime='90', AirTime='74', ArrDelay=3, DepDelay=10, Origin='SMF', Distance='479', TaxiIn='2', TaxiOut='7', Cancelled='0', CancellationCode=None, Diverted='0', CarrierDelay=0, WeatherDelay=0, NASDelay=0, SecurityDelay=0, LateAircraftDelay=0, type='Corporation', manufacturer='BOEING', issue_date='10/20/1995', model='737-3H4', status='Valid', aircraft_type='Fixed Wing Multi-Engine', engine_type='Turbo-Fan', Pyear='1995', iata='PDX', airport='Portland Intl', city='Portland', state='OR', country='USA', lat='45.58872222', long='-122.5975')"
      ]
     },
     "execution_count": 38,
     "metadata": {},
     "output_type": "execute_result"
    }
   ],
   "source": [
    "plane_flight_arr_airport_data.head()"
   ]
  },
  {
   "cell_type": "code",
   "execution_count": 39,
   "id": "819158c5",
   "metadata": {},
   "outputs": [],
   "source": [
    "# str_index_flight_data = plane_flight_arr_airport_data.withColumn(\"Distance\",col(\"Distance\").cast(IntegerType()))\n",
    "# str_index_flight_data = str_index_flight_data.withColumn(\"Pyear\",col(\"Pyear\").cast(IntegerType()))"
   ]
  },
  {
   "cell_type": "markdown",
   "id": "2dce1a66",
   "metadata": {},
   "source": [
    "# Create learnable Column by transforming string values to a index value"
   ]
  },
  {
   "cell_type": "code",
   "execution_count": 40,
   "id": "27c0d433",
   "metadata": {},
   "outputs": [
    {
     "name": "stderr",
     "output_type": "stream",
     "text": [
      "                                                                                \r"
     ]
    }
   ],
   "source": [
    "str_index_flight_data = StringIndexer(inputCol='UniqueCarrier', outputCol='UniqueCarrier_idx',handleInvalid=\"skip\").\\\n",
    "fit(plane_flight_arr_airport_data).transform(plane_flight_arr_airport_data)\n",
    "str_index_flight_data = StringIndexer(inputCol='Origin', outputCol='Origin_idx',handleInvalid=\"skip\").\\\n",
    "fit(str_index_flight_data).transform(str_index_flight_data)\n",
    "str_index_flight_data = StringIndexer(inputCol='issue_date', outputCol='issue_date_idx',handleInvalid=\"skip\").\\\n",
    "fit(str_index_flight_data).transform(str_index_flight_data)\n",
    "str_index_flight_data = StringIndexer(inputCol='type', outputCol='type_idx',handleInvalid=\"skip\").\\\n",
    "fit(str_index_flight_data).transform(str_index_flight_data)\n",
    "str_index_flight_data = StringIndexer(inputCol='manufacturer', outputCol='manufacturer_idx',handleInvalid=\"skip\").\\\n",
    "fit(str_index_flight_data).transform(str_index_flight_data)\n",
    "str_index_flight_data = StringIndexer(inputCol='model', outputCol='model_idx',handleInvalid=\"skip\").\\\n",
    "fit(str_index_flight_data).transform(str_index_flight_data)\n",
    "str_index_flight_data = StringIndexer(inputCol='status', outputCol='status_idx',handleInvalid=\"skip\").\\\n",
    "fit(str_index_flight_data).transform(str_index_flight_data)\n"
   ]
  },
  {
   "cell_type": "code",
   "execution_count": 41,
   "id": "129d10f9",
   "metadata": {},
   "outputs": [
    {
     "name": "stderr",
     "output_type": "stream",
     "text": [
      "                                                                                \r"
     ]
    }
   ],
   "source": [
    "str_index_flight_data = StringIndexer(inputCol='aircraft_type', outputCol='aircraft_type_idx',handleInvalid=\"skip\").\\\n",
    "fit(str_index_flight_data).transform(str_index_flight_data)\n",
    "str_index_flight_data = StringIndexer(inputCol='engine_type', outputCol='engine_type_idx',handleInvalid=\"skip\").\\\n",
    "fit(str_index_flight_data).transform(str_index_flight_data)"
   ]
  },
  {
   "cell_type": "code",
   "execution_count": 42,
   "id": "6e03f0eb",
   "metadata": {},
   "outputs": [
    {
     "name": "stderr",
     "output_type": "stream",
     "text": [
      "                                                                                \r"
     ]
    }
   ],
   "source": [
    "# str_index_flight_data = StringIndexer(inputCol='airport_date', outputCol='airport_idx').\\\n",
    "# fit(str_index_flight_data).transform(str_index_flight_data)\n",
    "str_index_flight_data = StringIndexer(inputCol='city', outputCol='city_idx',handleInvalid=\"skip\").\\\n",
    "fit(str_index_flight_data).transform(str_index_flight_data)\n",
    "str_index_flight_data = StringIndexer(inputCol='state', outputCol='state_idx',handleInvalid=\"skip\").\\\n",
    "fit(str_index_flight_data).transform(str_index_flight_data)\n",
    "str_index_flight_data = StringIndexer(inputCol='country', outputCol='country_idx',handleInvalid=\"skip\").\\\n",
    "fit(str_index_flight_data).transform(str_index_flight_data)\n",
    "str_index_flight_data = StringIndexer(inputCol='lat', outputCol='lat_idx',handleInvalid=\"skip\").\\\n",
    "fit(str_index_flight_data).transform(str_index_flight_data)\n",
    "str_index_flight_data = StringIndexer(inputCol='long', outputCol='long_idx',handleInvalid=\"skip\").\\\n",
    "fit(str_index_flight_data).transform(str_index_flight_data)"
   ]
  },
  {
   "cell_type": "code",
   "execution_count": 2,
   "id": "0c84875f",
   "metadata": {},
   "outputs": [],
   "source": [
    "# str_index_flight_data.printSchema()"
   ]
  },
  {
   "cell_type": "code",
   "execution_count": 44,
   "id": "9dbad302",
   "metadata": {},
   "outputs": [],
   "source": [
    "str_index_flight_data = str_index_flight_data.withColumn(\"Distance\",col(\"Distance\").cast(IntegerType()))\n",
    "str_index_flight_data = str_index_flight_data.withColumn(\"Pyear\",col(\"Pyear\").cast(IntegerType()))"
   ]
  },
  {
   "cell_type": "markdown",
   "id": "c0cc8dab",
   "metadata": {},
   "source": [
    "# An assembler to transform the big data frame to a vector "
   ]
  },
  {
   "cell_type": "code",
   "execution_count": 45,
   "id": "a2aa0ad4",
   "metadata": {},
   "outputs": [],
   "source": [
    "assembler = VectorAssembler(\n",
    "    inputCols=['Year','Month','DayofMonth','DayOfWeek','UniqueCarrier_idx','Origin_idx','Distance','type_idx',\n",
    "               'manufacturer_idx','model_idx','status_idx','aircraft_type_idx','engine_type_idx','Pyear','city_idx',\n",
    "               'state_idx','country_idx','lat_idx','long_idx'],\n",
    "    outputCol=\"features\")"
   ]
  },
  {
   "cell_type": "markdown",
   "id": "681ffd0f",
   "metadata": {},
   "source": [
    "# Drop all rows with null values \n",
    "<br>\n",
    "This would affect the performance though"
   ]
  },
  {
   "cell_type": "code",
   "execution_count": 57,
   "id": "f824ba8b",
   "metadata": {},
   "outputs": [],
   "source": [
    "str_index_flight_data = str_index_flight_data.dropna(how=\"any\")\n"
   ]
  },
  {
   "cell_type": "code",
   "execution_count": 58,
   "id": "7ae43243",
   "metadata": {},
   "outputs": [],
   "source": [
    "str_index_flight_data_assembled = assembler.setHandleInvalid(\"skip\").transform(str_index_flight_data)"
   ]
  },
  {
   "cell_type": "markdown",
   "id": "eae91055",
   "metadata": {},
   "source": [
    "# Split the data into train and test"
   ]
  },
  {
   "cell_type": "code",
   "execution_count": 59,
   "id": "20808def",
   "metadata": {},
   "outputs": [],
   "source": [
    "final_data = str_index_flight_data_assembled.select(\"features\",'DepDelay')\n",
    "train_data,test_data = final_data.randomSplit([0.7, 0.3], seed=42)"
   ]
  },
  {
   "cell_type": "code",
   "execution_count": 60,
   "id": "d246056e",
   "metadata": {},
   "outputs": [],
   "source": [
    "# train_data.show()"
   ]
  },
  {
   "cell_type": "markdown",
   "id": "d2b5717a",
   "metadata": {},
   "source": [
    "# Define the regression model"
   ]
  },
  {
   "cell_type": "code",
   "execution_count": 61,
   "id": "27ea7da1",
   "metadata": {},
   "outputs": [],
   "source": [
    "flight_delay_lr = LinearRegression(labelCol='DepDelay')\n"
   ]
  },
  {
   "cell_type": "markdown",
   "id": "d3348083",
   "metadata": {},
   "source": [
    "# Fit the regression model"
   ]
  },
  {
   "cell_type": "code",
   "execution_count": 62,
   "id": "760b6b0d",
   "metadata": {},
   "outputs": [
    {
     "name": "stderr",
     "output_type": "stream",
     "text": [
      "\r",
      "                                                                                \r"
     ]
    },
    {
     "name": "stdout",
     "output_type": "stream",
     "text": [
      "22/12/02 00:24:50 WARN Instrumentation: [40a7be29] regParam is zero, which might cause numerical instability and overfitting.\n"
     ]
    },
    {
     "name": "stderr",
     "output_type": "stream",
     "text": [
      "[Stage 182:=========>                                              (3 + 8) / 17]\r"
     ]
    },
    {
     "name": "stdout",
     "output_type": "stream",
     "text": [
      "22/12/02 00:26:44 WARN InstanceBuilder$NativeBLAS: Failed to load implementation from:dev.ludovic.netlib.blas.JNIBLAS\n",
      "22/12/02 00:26:44 WARN InstanceBuilder$NativeBLAS: Failed to load implementation from:dev.ludovic.netlib.blas.ForeignLinkerBLAS\n"
     ]
    },
    {
     "name": "stderr",
     "output_type": "stream",
     "text": [
      "                                                                                \r"
     ]
    },
    {
     "name": "stdout",
     "output_type": "stream",
     "text": [
      "22/12/02 00:28:51 WARN InstanceBuilder$NativeLAPACK: Failed to load implementation from:dev.ludovic.netlib.lapack.JNILAPACK\n",
      "22/12/02 00:28:51 WARN Instrumentation: [40a7be29] Cholesky solver failed due to singular covariance matrix. Retrying with Quasi-Newton solver.\n",
      "22/12/02 00:28:51 ERROR LBFGS: Failure! Resetting history: breeze.optimize.FirstOrderException: Line search zoom failed\n",
      "22/12/02 00:28:51 ERROR LBFGS: Failure again! Giving up and returning. Maybe the objective is just poorly behaved?\n"
     ]
    },
    {
     "name": "stderr",
     "output_type": "stream",
     "text": [
      "[Stage 186:===================================================>   (16 + 1) / 17]\r"
     ]
    },
    {
     "name": "stdout",
     "output_type": "stream",
     "text": [
      "Coefficients: [2.208669679294616,0.3695456450661353,0.0375841226401842,0.5777605268031156,1.4070570865156462,0.4466512185069203,-0.002083262988756436,0.0,0.094795473130844,-0.016540208201425374,0.0,0.0,-0.14463216273928717,0.20975926678361076,-0.00010812223659155567,0.030489327444966692,0.0,-0.0016130840020186024,-0.0016130840020186024] Intercept: -4865.393467547159\n"
     ]
    },
    {
     "name": "stderr",
     "output_type": "stream",
     "text": [
      "\r",
      "                                                                                \r"
     ]
    }
   ],
   "source": [
    "flight_delay_lr_lrModel = flight_delay_lr.fit(train_data,)\n",
    "print(\"Coefficients: {} Intercept: {}\".format(flight_delay_lr_lrModel.coefficients,flight_delay_lr_lrModel.intercept))\n"
   ]
  },
  {
   "cell_type": "markdown",
   "id": "bb9c3674",
   "metadata": {},
   "source": [
    "# Test the learned Model"
   ]
  },
  {
   "cell_type": "code",
   "execution_count": 63,
   "id": "0389168b",
   "metadata": {},
   "outputs": [
    {
     "name": "stderr",
     "output_type": "stream",
     "text": [
      "[Stage 196:=============================================>         (10 + 2) / 12]\r"
     ]
    },
    {
     "name": "stdout",
     "output_type": "stream",
     "text": [
      "+-------------------+\n",
      "|          residuals|\n",
      "+-------------------+\n",
      "|-7.3925034753810905|\n",
      "| -4.609339949501191|\n",
      "| 1.9555024423689247|\n",
      "+-------------------+\n",
      "\n"
     ]
    },
    {
     "name": "stderr",
     "output_type": "stream",
     "text": [
      "\r",
      "[Stage 196:==================================================>    (11 + 1) / 12]\r",
      "\r",
      "                                                                                \r"
     ]
    }
   ],
   "source": [
    "test_results = flight_delay_lr_lrModel.evaluate(test_data)\n",
    "test_results.residuals.show()\n"
   ]
  },
  {
   "cell_type": "markdown",
   "id": "77f7d0b2",
   "metadata": {},
   "source": [
    "# RMSE for the learned regression model"
   ]
  },
  {
   "cell_type": "code",
   "execution_count": 64,
   "id": "6c799a9a",
   "metadata": {},
   "outputs": [
    {
     "name": "stdout",
     "output_type": "stream",
     "text": [
      "RMSE: 5.154904208799616\n",
      "MSE: 26.57303740189999\n"
     ]
    }
   ],
   "source": [
    "print(\"RMSE: {}\".format(test_results.rootMeanSquaredError))\n",
    "print(\"MSE: {}\".format(test_results.meanSquaredError))"
   ]
  },
  {
   "cell_type": "markdown",
   "id": "577a9d72",
   "metadata": {},
   "source": [
    "# Show the prediction result for the model"
   ]
  },
  {
   "cell_type": "code",
   "execution_count": 65,
   "id": "62bf9223",
   "metadata": {},
   "outputs": [],
   "source": [
    "unlabeled_data = test_data.select('features')\n",
    "predictions = flight_delay_lr_lrModel.transform(unlabeled_data)\n"
   ]
  },
  {
   "cell_type": "code",
   "execution_count": 66,
   "id": "42864e42",
   "metadata": {},
   "outputs": [
    {
     "name": "stderr",
     "output_type": "stream",
     "text": [
      "[Stage 201:==================================================>    (11 + 1) / 12]\r"
     ]
    },
    {
     "name": "stdout",
     "output_type": "stream",
     "text": [
      "+--------------------+-------------------+\n",
      "|            features|         prediction|\n",
      "+--------------------+-------------------+\n",
      "|[2005.0,1.0,30.0,...| 7.3925034753810905|\n",
      "|[2004.0,1.0,17.0,...|  4.609339949501191|\n",
      "|[2004.0,6.0,28.0,...|-1.9555024423689247|\n",
      "+--------------------+-------------------+\n",
      "\n"
     ]
    },
    {
     "name": "stderr",
     "output_type": "stream",
     "text": [
      "\r",
      "                                                                                \r"
     ]
    }
   ],
   "source": [
    "predictions.show()"
   ]
  },
  {
   "cell_type": "code",
   "execution_count": null,
   "id": "9fa24f8b",
   "metadata": {},
   "outputs": [],
   "source": []
  }
 ],
 "metadata": {
  "kernelspec": {
   "display_name": "Python 3 (ipykernel)",
   "language": "python",
   "name": "python3"
  },
  "language_info": {
   "codemirror_mode": {
    "name": "ipython",
    "version": 3
   },
   "file_extension": ".py",
   "mimetype": "text/x-python",
   "name": "python",
   "nbconvert_exporter": "python",
   "pygments_lexer": "ipython3",
   "version": "3.9.12"
  }
 },
 "nbformat": 4,
 "nbformat_minor": 5
}
