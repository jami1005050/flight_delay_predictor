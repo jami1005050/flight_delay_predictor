{
 "cells": [
  {
   "cell_type": "markdown",
   "id": "bb977a18",
   "metadata": {},
   "source": [
    "# Import Libraries"
   ]
  },
  {
   "cell_type": "code",
   "execution_count": 1,
   "id": "1af1a4d3",
   "metadata": {},
   "outputs": [],
   "source": [
    "from pyspark.sql import SparkSession\n",
    "import matplotlib.pyplot as plt\n",
    "from pyspark.ml.feature import VectorAssembler\n",
    "from pyspark.ml.stat import Correlation\n",
    "from pyspark.sql.functions import col,desc,count\n",
    "from pyspark.sql.types import IntegerType\n",
    "from pyspark.sql import functions as F\n",
    "\n",
    "import seaborn as sns\n",
    "import pandas as pd"
   ]
  },
  {
   "cell_type": "markdown",
   "id": "ce113c32",
   "metadata": {},
   "source": [
    "# Create Application"
   ]
  },
  {
   "cell_type": "code",
   "execution_count": 2,
   "id": "c62a3dea",
   "metadata": {},
   "outputs": [
    {
     "name": "stdout",
     "output_type": "stream",
     "text": [
      "22/12/05 15:00:46 WARN Utils: Your hostname, Jaminurs-MacBook-Pro.local resolves to a loopback address: 127.0.0.1; using 192.168.0.4 instead (on interface en0)\n",
      "22/12/05 15:00:46 WARN Utils: Set SPARK_LOCAL_IP if you need to bind to another address\n"
     ]
    },
    {
     "name": "stderr",
     "output_type": "stream",
     "text": [
      "Setting default log level to \"WARN\".\n",
      "To adjust logging level use sc.setLogLevel(newLevel). For SparkR, use setLogLevel(newLevel).\n"
     ]
    },
    {
     "name": "stdout",
     "output_type": "stream",
     "text": [
      "22/12/05 15:00:47 WARN NativeCodeLoader: Unable to load native-hadoop library for your platform... using builtin-java classes where applicable\n"
     ]
    }
   ],
   "source": [
    "#Create SparkSession\n",
    "spark = SparkSession.builder.appName('Flight_delay').getOrCreate()"
   ]
  },
  {
   "cell_type": "markdown",
   "id": "b3def02d",
   "metadata": {},
   "source": [
    "# Read all flight Data\n",
    "<br>\n",
    "From year 1988-2008"
   ]
  },
  {
   "cell_type": "code",
   "execution_count": 3,
   "id": "3dd65f02",
   "metadata": {},
   "outputs": [
    {
     "name": "stderr",
     "output_type": "stream",
     "text": [
      "\r",
      "[Stage 0:>                                                          (0 + 1) / 1]\r",
      "\r",
      "                                                                                \r"
     ]
    },
    {
     "name": "stdout",
     "output_type": "stream",
     "text": [
      "root\n",
      " |-- Year: string (nullable = true)\n",
      " |-- Month: string (nullable = true)\n",
      " |-- DayofMonth: string (nullable = true)\n",
      " |-- DayOfWeek: string (nullable = true)\n",
      " |-- DepTime: string (nullable = true)\n",
      " |-- CRSDepTime: string (nullable = true)\n",
      " |-- ArrTime: string (nullable = true)\n",
      " |-- CRSArrTime: string (nullable = true)\n",
      " |-- UniqueCarrier: string (nullable = true)\n",
      " |-- FlightNum: string (nullable = true)\n",
      " |-- TailNum: string (nullable = true)\n",
      " |-- ActualElapsedTime: string (nullable = true)\n",
      " |-- CRSElapsedTime: string (nullable = true)\n",
      " |-- AirTime: string (nullable = true)\n",
      " |-- ArrDelay: string (nullable = true)\n",
      " |-- DepDelay: string (nullable = true)\n",
      " |-- Origin: string (nullable = true)\n",
      " |-- Dest: string (nullable = true)\n",
      " |-- Distance: string (nullable = true)\n",
      " |-- TaxiIn: string (nullable = true)\n",
      " |-- TaxiOut: string (nullable = true)\n",
      " |-- Cancelled: string (nullable = true)\n",
      " |-- CancellationCode: string (nullable = true)\n",
      " |-- Diverted: string (nullable = true)\n",
      " |-- CarrierDelay: string (nullable = true)\n",
      " |-- WeatherDelay: string (nullable = true)\n",
      " |-- NASDelay: string (nullable = true)\n",
      " |-- SecurityDelay: string (nullable = true)\n",
      " |-- LateAircraftDelay: string (nullable = true)\n",
      "\n"
     ]
    }
   ],
   "source": [
    "Flight_Spark_frame  = spark.read.option('recursiveFileLookup','True').option(\"header\", \"true\")\\\n",
    "                        .csv(\"dataverse_files/*\")\n",
    "Flight_Spark_frame.printSchema()\n",
    "# .option(\"inferSchema\", \"true\") # this enforce data type "
   ]
  },
  {
   "cell_type": "code",
   "execution_count": 4,
   "id": "c721bafa",
   "metadata": {},
   "outputs": [
    {
     "name": "stdout",
     "output_type": "stream",
     "text": [
      "+-------+---------+------+----+\n",
      "|TailNum|FlightNum|Origin|Dest|\n",
      "+-------+---------+------+----+\n",
      "|   N351|     2891|   SMF| ONT|\n",
      "|   N370|      462|   SMF| PDX|\n",
      "|   N685|     1229|   SMF| PDX|\n",
      "|   N364|     1355|   SMF| PDX|\n",
      "|   N480|     2278|   SMF| PDX|\n",
      "| N611SW|     2386|   SMF| PDX|\n",
      "|   N482|      409|   SMF| PHX|\n",
      "| N749SW|     1131|   SMF| PHX|\n",
      "|   N451|     1212|   SMF| PHX|\n",
      "| N630WN|     2456|   SMF| PHX|\n",
      "|   N493|     2575|   SMF| PHX|\n",
      "| N733SW|     2608|   SMF| PHX|\n",
      "|   N348|      139|   SMF| SAN|\n",
      "|   N358|      747|   SMF| SAN|\n",
      "|   N413|      933|   SMF| SAN|\n",
      "|   N416|     1054|   SMF| SAN|\n",
      "| N383SW|     1106|   SMF| SAN|\n",
      "| N316SW|     1554|   SMF| SAN|\n",
      "| N691WN|     1604|   SMF| SAN|\n",
      "| N308SW|     1975|   SMF| SAN|\n",
      "+-------+---------+------+----+\n",
      "only showing top 20 rows\n",
      "\n"
     ]
    }
   ],
   "source": [
    "Flight_Spark_frame.select('TailNum','FlightNum','Origin','Dest').show()"
   ]
  },
  {
   "cell_type": "markdown",
   "id": "c6b3bade",
   "metadata": {},
   "source": [
    "# Read Other tables\n",
    "<br>\n",
    "1: Carrier Table <br>\n",
    "2: Plane Data <br>\n",
    "3: Airport Data"
   ]
  },
  {
   "cell_type": "code",
   "execution_count": 5,
   "id": "d2820890",
   "metadata": {},
   "outputs": [],
   "source": [
    "carrier_Spark_frame  = spark.read.option(\"header\", \"true\").csv(\"carriers.csv\")\n",
    "plane_Spark_frame  = spark.read.option(\"header\", \"true\").csv(\"plane-data.csv\")\n",
    "airport_Spark_frame  = spark.read.option(\"header\", \"true\").csv(\"airports.csv\")"
   ]
  },
  {
   "cell_type": "markdown",
   "id": "6b5da37b",
   "metadata": {},
   "source": [
    "# Rename the conflicting column"
   ]
  },
  {
   "cell_type": "code",
   "execution_count": 6,
   "id": "04140c8d",
   "metadata": {},
   "outputs": [
    {
     "name": "stdout",
     "output_type": "stream",
     "text": [
      "root\n",
      " |-- tailnum: string (nullable = true)\n",
      " |-- type: string (nullable = true)\n",
      " |-- manufacturer: string (nullable = true)\n",
      " |-- issue_date: string (nullable = true)\n",
      " |-- model: string (nullable = true)\n",
      " |-- status: string (nullable = true)\n",
      " |-- aircraft_type: string (nullable = true)\n",
      " |-- engine_type: string (nullable = true)\n",
      " |-- PYear: string (nullable = true)\n",
      "\n",
      "root\n",
      " |-- Code: string (nullable = true)\n",
      " |-- Description: string (nullable = true)\n",
      "\n",
      "root\n",
      " |-- tailnum: string (nullable = true)\n",
      " |-- type: string (nullable = true)\n",
      " |-- manufacturer: string (nullable = true)\n",
      " |-- issue_date: string (nullable = true)\n",
      " |-- model: string (nullable = true)\n",
      " |-- status: string (nullable = true)\n",
      " |-- aircraft_type: string (nullable = true)\n",
      " |-- engine_type: string (nullable = true)\n",
      " |-- year: string (nullable = true)\n",
      "\n",
      "root\n",
      " |-- iata: string (nullable = true)\n",
      " |-- airport: string (nullable = true)\n",
      " |-- city: string (nullable = true)\n",
      " |-- state: string (nullable = true)\n",
      " |-- country: string (nullable = true)\n",
      " |-- lat: string (nullable = true)\n",
      " |-- long: string (nullable = true)\n",
      "\n"
     ]
    }
   ],
   "source": [
    "plane_Spark_frame = plane_Spark_frame.withColumnRenamed(\"year\",\"Pyear\")\n",
    "carrier_Spark_frame.printSchema()\n",
    "plane_Spark_frame.printSchema()\n",
    "airport_Spark_frame.printSchema()"
   ]
  },
  {
   "cell_type": "markdown",
   "id": "a6873eb2",
   "metadata": {},
   "source": [
    "# Data Preprocessing after reading\n",
    "<br>\n",
    "change the type of delays from string to integer"
   ]
  },
  {
   "cell_type": "code",
   "execution_count": 7,
   "id": "49d226d5",
   "metadata": {},
   "outputs": [],
   "source": [
    "Flight_Spark_frame = Flight_Spark_frame.withColumn(\"WeatherDelay\",col(\"WeatherDelay\").cast(IntegerType())) \\\n",
    "    .withColumn(\"NASDelay\",col(\"NASDelay\").cast(IntegerType())) \\\n",
    "    .withColumn(\"SecurityDelay\",col(\"SecurityDelay\").cast(IntegerType()))\\\n",
    "    .withColumn(\"LateAircraftDelay\",col(\"LateAircraftDelay\").cast(IntegerType()))\\\n",
    "    .withColumn(\"CarrierDelay\",col(\"CarrierDelay\").cast(IntegerType()))\\\n",
    "    .withColumn(\"ArrDelay\",col(\"ArrDelay\").cast(IntegerType()))\\\n",
    "    .withColumn(\"DepDelay\",col(\"DepDelay\").cast(IntegerType()))\n",
    "# RDD.printSchema()"
   ]
  },
  {
   "cell_type": "code",
   "execution_count": 8,
   "id": "f0f82e16",
   "metadata": {},
   "outputs": [
    {
     "name": "stdout",
     "output_type": "stream",
     "text": [
      "root\n",
      " |-- Year: string (nullable = true)\n",
      " |-- Month: string (nullable = true)\n",
      " |-- DayofMonth: string (nullable = true)\n",
      " |-- DayOfWeek: string (nullable = true)\n",
      " |-- DepTime: string (nullable = true)\n",
      " |-- CRSDepTime: string (nullable = true)\n",
      " |-- ArrTime: string (nullable = true)\n",
      " |-- CRSArrTime: string (nullable = true)\n",
      " |-- UniqueCarrier: string (nullable = true)\n",
      " |-- FlightNum: string (nullable = true)\n",
      " |-- TailNum: string (nullable = true)\n",
      " |-- ActualElapsedTime: string (nullable = true)\n",
      " |-- CRSElapsedTime: string (nullable = true)\n",
      " |-- AirTime: string (nullable = true)\n",
      " |-- ArrDelay: integer (nullable = true)\n",
      " |-- DepDelay: integer (nullable = true)\n",
      " |-- Origin: string (nullable = true)\n",
      " |-- Dest: string (nullable = true)\n",
      " |-- Distance: string (nullable = true)\n",
      " |-- TaxiIn: string (nullable = true)\n",
      " |-- TaxiOut: string (nullable = true)\n",
      " |-- Cancelled: string (nullable = true)\n",
      " |-- CancellationCode: string (nullable = true)\n",
      " |-- Diverted: string (nullable = true)\n",
      " |-- CarrierDelay: integer (nullable = true)\n",
      " |-- WeatherDelay: integer (nullable = true)\n",
      " |-- NASDelay: integer (nullable = true)\n",
      " |-- SecurityDelay: integer (nullable = true)\n",
      " |-- LateAircraftDelay: integer (nullable = true)\n",
      "\n"
     ]
    }
   ],
   "source": [
    "Flight_Spark_frame.printSchema()"
   ]
  },
  {
   "cell_type": "markdown",
   "id": "b0521222",
   "metadata": {},
   "source": [
    "1. Merging Year Month Arrival time <br>\n",
    "2. Merging Year month Actual Arrival time <br>\n",
    "3. Merging Year month Departure time <br>\n",
    "4. Merging Year month Actual Departure time <br>\n"
   ]
  },
  {
   "cell_type": "code",
   "execution_count": 9,
   "id": "da0fc87d",
   "metadata": {},
   "outputs": [],
   "source": [
    "Flight_Spark_frame = Flight_Spark_frame.withColumn(\"A_Dept_D_time\",\\\n",
    "        F.expr(\"make_timestamp(Year, Month, DayofMonth, substr(DepTime,1,2), substr(DepTime,3,2), 0)\"))\\\n",
    "                    .withColumn(\"S_Dept_D_time\",\\\n",
    "        F.expr(\"make_timestamp(Year, Month, DayofMonth, substr(CRSDepTime,1,2), substr(CRSDepTime,3,2), 0)\"))\\\n",
    "                    .withColumn(\"A_Arr_D_time\",\\\n",
    "        F.expr(\"make_timestamp(Year, Month, DayofMonth, substr(ArrTime,1,2), substr(ArrTime,3,2), 0)\"))\\\n",
    "                    .withColumn(\"S_Arr_D_time\",\\\n",
    "        F.expr(\"make_timestamp(Year, Month, DayofMonth, substr(CRSArrTime,1,2), substr(CRSArrTime,3,2), 0)\"))\n"
   ]
  },
  {
   "cell_type": "markdown",
   "id": "bc09ab78",
   "metadata": {},
   "source": [
    "# Correlation Analysis of different delays"
   ]
  },
  {
   "cell_type": "code",
   "execution_count": 10,
   "id": "c057d419",
   "metadata": {},
   "outputs": [
    {
     "name": "stderr",
     "output_type": "stream",
     "text": [
      "[Stage 9:>                                                         (0 + 8) / 17]\r"
     ]
    },
    {
     "name": "stdout",
     "output_type": "stream",
     "text": [
      "22/12/05 15:03:17 WARN InstanceBuilder$NativeBLAS: Failed to load implementation from:dev.ludovic.netlib.blas.JNIBLAS\n",
      "22/12/05 15:03:17 WARN InstanceBuilder$NativeBLAS: Failed to load implementation from:dev.ludovic.netlib.blas.ForeignLinkerBLAS\n"
     ]
    },
    {
     "name": "stderr",
     "output_type": "stream",
     "text": [
      "                                                                                \r"
     ]
    }
   ],
   "source": [
    "vector_col = \"corr_features\"\n",
    "Flight_Spark_frame_Filter = Flight_Spark_frame.select(col('CarrierDelay'),\n",
    " col('WeatherDelay'),col('NASDelay'),\n",
    " col('ArrDelay'),col('DepDelay'),\n",
    " col('SecurityDelay'),col('LateAircraftDelay'))\n",
    "# RDD_Filter.na.fill(value=0).show()\n",
    "assembler = VectorAssembler(inputCols=Flight_Spark_frame_Filter.columns, outputCol=vector_col)\n",
    "df_vector = assembler.setHandleInvalid(\"skip\").transform(Flight_Spark_frame_Filter).select(vector_col)\n",
    "# get correlation matrix\n",
    "matrix = Correlation.corr(df_vector, vector_col)\n"
   ]
  },
  {
   "cell_type": "markdown",
   "id": "875f50ce",
   "metadata": {},
   "source": [
    "# Correlation Plot"
   ]
  },
  {
   "cell_type": "code",
   "execution_count": 11,
   "id": "86dfbe24",
   "metadata": {},
   "outputs": [
    {
     "data": {
      "image/png": "[encoded data removed]",
      "text/plain": [
       "<Figure size 640x480 with 2 Axes>"
      ]
     },
     "metadata": {},
     "output_type": "display_data"
    }
   ],
   "source": [
    "corr_matrix = matrix.collect()[0][0].toArray().tolist() \n",
    "corr_matrix_df = pd.DataFrame(data=corr_matrix, columns = Flight_Spark_frame_Filter.columns, \n",
    "                              index=Flight_Spark_frame_Filter.columns) \n",
    "\n",
    "sns.heatmap(corr_matrix_df, \n",
    "        xticklabels=corr_matrix_df.columns,\n",
    "        yticklabels=corr_matrix_df.columns)\n",
    "plt.savefig('correlation.png', bbox_inches='tight')\n",
    "plt.show()"
   ]
  },
  {
   "cell_type": "markdown",
   "id": "5676886f",
   "metadata": {},
   "source": [
    "# Some key Insights and Visualization \n",
    "<br>\n",
    "total count "
   ]
  },
  {
   "cell_type": "code",
   "execution_count": 24,
   "id": "87a7da0a",
   "metadata": {},
   "outputs": [
    {
     "name": "stderr",
     "output_type": "stream",
     "text": [
      "                                                                                \r"
     ]
    },
    {
     "data": {
      "text/plain": [
       "118914458"
      ]
     },
     "execution_count": 24,
     "metadata": {},
     "output_type": "execute_result"
    }
   ],
   "source": [
    "Flight_Spark_frame.count()"
   ]
  },
  {
   "cell_type": "markdown",
   "id": "7f1d81cb",
   "metadata": {},
   "source": [
    "count the cancelled flight\n",
    "<br>\n",
    "(A = carrier, B = weather, C = NAS, D = security)"
   ]
  },
  {
   "cell_type": "code",
   "execution_count": 12,
   "id": "4d2b55a1",
   "metadata": {},
   "outputs": [
    {
     "name": "stderr",
     "output_type": "stream",
     "text": [
      "[Stage 11:====================================================>   (16 + 1) / 17]\r"
     ]
    },
    {
     "name": "stdout",
     "output_type": "stream",
     "text": [
      "+----------------+--------+\n",
      "|CancellationCode|   count|\n",
      "+----------------+--------+\n",
      "|              NA|83844440|\n",
      "|            null|34408304|\n",
      "|               A|  289717|\n",
      "|               B|  237894|\n",
      "|               C|  133508|\n",
      "|               D|     595|\n",
      "+----------------+--------+\n",
      "\n"
     ]
    },
    {
     "name": "stderr",
     "output_type": "stream",
     "text": [
      "\r",
      "                                                                                \r"
     ]
    }
   ],
   "source": [
    "Flight_Spark_frame.groupBy(\"CancellationCode\").count().orderBy(\"count\", ascending = False).show()\n"
   ]
  },
  {
   "cell_type": "markdown",
   "id": "34c4bbc9",
   "metadata": {},
   "source": [
    "Flight cancelled count plot"
   ]
  },
  {
   "cell_type": "code",
   "execution_count": 13,
   "id": "19488a95",
   "metadata": {},
   "outputs": [
    {
     "data": {
      "image/png": "[encoded data removed]",
      "text/plain": [
       "<Figure size 640x480 with 1 Axes>"
      ]
     },
     "metadata": {},
     "output_type": "display_data"
    }
   ],
   "source": [
    "plt.bar([\"Carrier\",\"Weather\",\"NAS\",\"Security\"],[289717,237894,133508,595],color = ['red','green','blue','orange'])\n",
    "plt.savefig('cancellation.png', bbox_inches='tight')\n",
    "plt.show()"
   ]
  },
  {
   "cell_type": "markdown",
   "id": "5fc97a11",
   "metadata": {},
   "source": [
    "Unique Carrier"
   ]
  },
  {
   "cell_type": "markdown",
   "id": "64910b51",
   "metadata": {},
   "source": [
    "Per Carrier Flight Count\n",
    "https://learn.microsoft.com/en-us/azure/synapse-analytics/spark/apache-spark-data-visualization-tutorial"
   ]
  },
  {
   "cell_type": "code",
   "execution_count": 27,
   "id": "f49f8646",
   "metadata": {},
   "outputs": [],
   "source": [
    "Per_carrier_flight = Flight_Spark_frame.groupBy(\"UniqueCarrier\").count().orderBy(\"count\", ascending = False)"
   ]
  },
  {
   "cell_type": "markdown",
   "id": "74b1b398",
   "metadata": {},
   "source": [
    "Sampling technique for distribution plot"
   ]
  },
  {
   "cell_type": "code",
   "execution_count": 28,
   "id": "6fa91ef9",
   "metadata": {},
   "outputs": [
    {
     "name": "stderr",
     "output_type": "stream",
     "text": [
      "                                                                                \r"
     ]
    }
   ],
   "source": [
    "Per_carrier_flight_sampled = Per_carrier_flight.sample(True, 0.001, seed=1234)\n",
    "Per_carrier_flight_df = Per_carrier_flight_sampled.toPandas()"
   ]
  },
  {
   "cell_type": "markdown",
   "id": "bfaa3b41",
   "metadata": {},
   "source": [
    "# Distribution of delays for a carrier"
   ]
  },
  {
   "cell_type": "markdown",
   "id": "beff8222",
   "metadata": {},
   "source": [
    "## Spark SQL to look into flight data by Carrier \"FL\""
   ]
  },
  {
   "cell_type": "code",
   "execution_count": 29,
   "id": "194fb58b",
   "metadata": {},
   "outputs": [],
   "source": [
    "Flight_Spark_frame.createOrReplaceTempView(\"Flight_Data\")\n",
    "FL_carrier = spark.sql(\"SELECT * from Flight_Data where UniqueCarrier='FL' \")\n",
    "#RDD.filter(RDD.UniqueCarrier == 'FL').collect()\n",
    "# Where year >1 < 4"
   ]
  },
  {
   "cell_type": "markdown",
   "id": "2f5807bb",
   "metadata": {},
   "source": [
    "## Sample a Small fragement of the data "
   ]
  },
  {
   "cell_type": "code",
   "execution_count": 30,
   "id": "07ffcad4",
   "metadata": {},
   "outputs": [
    {
     "name": "stderr",
     "output_type": "stream",
     "text": [
      "/Users/jaminurislam/opt/anaconda3/envs/big_data/lib/python3.9/site-packages/pyspark/sql/pandas/conversion.py:248: FutureWarning: Passing unit-less datetime64 dtype to .astype is deprecated and will raise in a future version. Pass 'datetime64[ns]' instead\n",
      "  series = series.astype(t, copy=False)\n",
      "/Users/jaminurislam/opt/anaconda3/envs/big_data/lib/python3.9/site-packages/pyspark/sql/pandas/conversion.py:248: FutureWarning: Passing unit-less datetime64 dtype to .astype is deprecated and will raise in a future version. Pass 'datetime64[ns]' instead\n",
      "  series = series.astype(t, copy=False)\n",
      "/Users/jaminurislam/opt/anaconda3/envs/big_data/lib/python3.9/site-packages/pyspark/sql/pandas/conversion.py:248: FutureWarning: Passing unit-less datetime64 dtype to .astype is deprecated and will raise in a future version. Pass 'datetime64[ns]' instead\n",
      "  series = series.astype(t, copy=False)\n",
      "/Users/jaminurislam/opt/anaconda3/envs/big_data/lib/python3.9/site-packages/pyspark/sql/pandas/conversion.py:248: FutureWarning: Passing unit-less datetime64 dtype to .astype is deprecated and will raise in a future version. Pass 'datetime64[ns]' instead\n",
      "  series = series.astype(t, copy=False)\n"
     ]
    }
   ],
   "source": [
    "FL_carrier_sampled = FL_carrier.sample(True, 0.001, seed=1234)\n",
    "FL_carrier_sampled_df = FL_carrier_sampled.toPandas()"
   ]
  },
  {
   "cell_type": "markdown",
   "id": "1b22946c",
   "metadata": {},
   "source": [
    "## Arrival delay distribution"
   ]
  },
  {
   "cell_type": "code",
   "execution_count": 31,
   "id": "48a75e92",
   "metadata": {},
   "outputs": [
    {
     "name": "stderr",
     "output_type": "stream",
     "text": [
      "/var/folders/k3/yr6xqkcd6dx_w09lmqq7y7h80000gn/T/ipykernel_43703/2609835248.py:1: UserWarning: \n",
      "\n",
      "`distplot` is a deprecated function and will be removed in seaborn v0.14.0.\n",
      "\n",
      "Please adapt your code to use either `displot` (a figure-level function with\n",
      "similar flexibility) or `histplot` (an axes-level function for histograms).\n",
      "\n",
      "For a guide to updating your code to use the new functions, please see\n",
      "https://gist.github.com/mwaskom/de44147ed2974457ad6372750bbe5751\n",
      "\n",
      "  sns.distplot(FL_carrier_sampled_df['ArrDelay'])\n"
     ]
    },
    {
     "data": {
      "text/plain": [
       "<AxesSubplot:xlabel='ArrDelay', ylabel='Density'>"
      ]
     },
     "execution_count": 31,
     "metadata": {},
     "output_type": "execute_result"
    },
    {
     "data": {
      "image/png": "[encoded data removed]",
      "text/plain": [
       "<Figure size 640x480 with 1 Axes>"
      ]
     },
     "metadata": {},
     "output_type": "display_data"
    }
   ],
   "source": [
    "sns.distplot(FL_carrier_sampled_df['ArrDelay'])"
   ]
  },
  {
   "cell_type": "markdown",
   "id": "a8920b66",
   "metadata": {},
   "source": [
    "## Departure delay distribution"
   ]
  },
  {
   "cell_type": "code",
   "execution_count": 32,
   "id": "5859770f",
   "metadata": {},
   "outputs": [
    {
     "name": "stderr",
     "output_type": "stream",
     "text": [
      "/var/folders/k3/yr6xqkcd6dx_w09lmqq7y7h80000gn/T/ipykernel_43703/3915417223.py:1: UserWarning: \n",
      "\n",
      "`distplot` is a deprecated function and will be removed in seaborn v0.14.0.\n",
      "\n",
      "Please adapt your code to use either `displot` (a figure-level function with\n",
      "similar flexibility) or `histplot` (an axes-level function for histograms).\n",
      "\n",
      "For a guide to updating your code to use the new functions, please see\n",
      "https://gist.github.com/mwaskom/de44147ed2974457ad6372750bbe5751\n",
      "\n",
      "  sns.distplot(FL_carrier_sampled_df['DepDelay'])\n"
     ]
    },
    {
     "data": {
      "text/plain": [
       "<AxesSubplot:xlabel='DepDelay', ylabel='Density'>"
      ]
     },
     "execution_count": 32,
     "metadata": {},
     "output_type": "execute_result"
    },
    {
     "data": {
      "image/png": "[encoded data removed]",
      "text/plain": [
       "<Figure size 640x480 with 1 Axes>"
      ]
     },
     "metadata": {},
     "output_type": "display_data"
    }
   ],
   "source": [
    "sns.distplot(FL_carrier_sampled_df['DepDelay'])"
   ]
  },
  {
   "cell_type": "markdown",
   "id": "7467c045",
   "metadata": {},
   "source": [
    "## Nas Delay Distribtion"
   ]
  },
  {
   "cell_type": "code",
   "execution_count": 33,
   "id": "ac06b54c",
   "metadata": {},
   "outputs": [
    {
     "name": "stderr",
     "output_type": "stream",
     "text": [
      "/var/folders/k3/yr6xqkcd6dx_w09lmqq7y7h80000gn/T/ipykernel_43703/2149994368.py:1: UserWarning: \n",
      "\n",
      "`distplot` is a deprecated function and will be removed in seaborn v0.14.0.\n",
      "\n",
      "Please adapt your code to use either `displot` (a figure-level function with\n",
      "similar flexibility) or `histplot` (an axes-level function for histograms).\n",
      "\n",
      "For a guide to updating your code to use the new functions, please see\n",
      "https://gist.github.com/mwaskom/de44147ed2974457ad6372750bbe5751\n",
      "\n",
      "  sns.distplot(FL_carrier_sampled_df['NASDelay'])\n"
     ]
    },
    {
     "data": {
      "text/plain": [
       "<AxesSubplot:xlabel='NASDelay', ylabel='Density'>"
      ]
     },
     "execution_count": 33,
     "metadata": {},
     "output_type": "execute_result"
    },
    {
     "data": {
      "image/png": "[encoded data removed]",
      "text/plain": [
       "<Figure size 640x480 with 1 Axes>"
      ]
     },
     "metadata": {},
     "output_type": "display_data"
    }
   ],
   "source": [
    "sns.distplot(FL_carrier_sampled_df['NASDelay'])"
   ]
  },
  {
   "cell_type": "markdown",
   "id": "1de041fd",
   "metadata": {},
   "source": [
    "## Weather delay distribution"
   ]
  },
  {
   "cell_type": "code",
   "execution_count": 34,
   "id": "8b5c4574",
   "metadata": {},
   "outputs": [
    {
     "name": "stderr",
     "output_type": "stream",
     "text": [
      "/var/folders/k3/yr6xqkcd6dx_w09lmqq7y7h80000gn/T/ipykernel_43703/1058642491.py:1: UserWarning: \n",
      "\n",
      "`distplot` is a deprecated function and will be removed in seaborn v0.14.0.\n",
      "\n",
      "Please adapt your code to use either `displot` (a figure-level function with\n",
      "similar flexibility) or `histplot` (an axes-level function for histograms).\n",
      "\n",
      "For a guide to updating your code to use the new functions, please see\n",
      "https://gist.github.com/mwaskom/de44147ed2974457ad6372750bbe5751\n",
      "\n",
      "  sns.distplot(FL_carrier_sampled_df['WeatherDelay'])\n"
     ]
    },
    {
     "data": {
      "text/plain": [
       "<AxesSubplot:xlabel='WeatherDelay', ylabel='Density'>"
      ]
     },
     "execution_count": 34,
     "metadata": {},
     "output_type": "execute_result"
    },
    {
     "data": {
      "image/png": "[encoded data removed]",
      "text/plain": [
       "<Figure size 640x480 with 1 Axes>"
      ]
     },
     "metadata": {},
     "output_type": "display_data"
    }
   ],
   "source": [
    "sns.distplot(FL_carrier_sampled_df['WeatherDelay'])"
   ]
  },
  {
   "cell_type": "code",
   "execution_count": 35,
   "id": "63e72d1c",
   "metadata": {},
   "outputs": [],
   "source": [
    "# sns.distplot(FL_carrier_sampled_df['SecurityDelay'])\n",
    "# sns.distplot(FL_carrier_sampled_df['CarrierDelay'])\n",
    "# sns.distplot(FL_carrier_sampled_df['SecurityDelay'])\n",
    "# sns.distplot(FL_carrier_sampled_df['LateAircraftDelay'])"
   ]
  },
  {
   "cell_type": "markdown",
   "id": "9244a2fd",
   "metadata": {},
   "source": [
    "# Queries on flight data "
   ]
  },
  {
   "cell_type": "markdown",
   "id": "6bbbcbc3",
   "metadata": {},
   "source": [
    "## Aggregate Arrival delay by carrier\n",
    "<br>\n",
    "Some delays can be negative as some flight can arrive early as well. "
   ]
  },
  {
   "cell_type": "code",
   "execution_count": 36,
   "id": "1fd1ac7e",
   "metadata": {},
   "outputs": [
    {
     "name": "stderr",
     "output_type": "stream",
     "text": [
      "[Stage 35:====================================================>   (16 + 1) / 17]\r"
     ]
    },
    {
     "name": "stdout",
     "output_type": "stream",
     "text": [
      "+-------------+-------------+-------------+-------------+------------------+---------------+\n",
      "|UniqueCarrier|min(ArrDelay)|max(ArrDelay)|sum(ArrDelay)|        mean_delay|count(ArrDelay)|\n",
      "+-------------+-------------+-------------+-------------+------------------+---------------+\n",
      "|           YV|         -129|          715|      7582847|11.532461271257844|         657522|\n",
      "|           EV|         -978|         1187|     15954182|10.927185121006545|        1460045|\n",
      "|           PI|         -412|         1381|      9022518|10.464421039446352|         862209|\n",
      "|           FL|          -86|          975|     10430611| 9.691075349039451|        1076311|\n",
      "|           B6|         -105|         1392|      6246314| 9.276005963907666|         673384|\n",
      "|           PS|          -60|         1033|       762188| 9.261881326479774|          82293|\n",
      "|           XE|         -157|          939|     18444549| 8.947188709531112|        2061491|\n",
      "|           9E|          -57|         1942|      2886663| 8.638539506405595|         334161|\n",
      "|           MQ|         -926|         1357|     29980998| 8.622370020229397|        3477118|\n",
      "|           AS|         -720|         1139|     23148078|  8.53885575734504|        2710911|\n",
      "|           UA|         -778|         1612|    107880045| 8.501691392986737|       12689245|\n",
      "|           HP|         -212|         1323|     27049187|7.5653575640886155|        3575401|\n",
      "|           DL|         -989|         1189|    120483322| 7.546302000591762|       15965876|\n",
      "|           EA|          -86|         1179|      6279305| 7.102667527828459|         884077|\n",
      "|           OH|          -90|         1380|      9112819|7.0499860359074455|        1292601|\n",
      "|           CO|        -1019|         1178|     53804457| 6.883259483015365|        7816712|\n",
      "|           TW|        -1426|          931|     25218176| 6.856540040794198|        3677974|\n",
      "|           DH|        -1035|         1438|      4552841| 6.798461072112793|         669687|\n",
      "|           AA|        -1410|         1525|     95262613| 6.679058717453978|       14262880|\n",
      "|           US|         -105|         1073|     87700324| 6.516606250197373|       13457975|\n",
      "+-------------+-------------+-------------+-------------+------------------+---------------+\n",
      "only showing top 20 rows\n",
      "\n"
     ]
    },
    {
     "name": "stderr",
     "output_type": "stream",
     "text": [
      "\r",
      "                                                                                \r"
     ]
    }
   ],
   "source": [
    "# RDD.groupby('UniqueCarrier').agg({'ArrDelay': 'min'}).show()\n",
    "Flight_Spark_frame.groupby('UniqueCarrier').agg(F.min('ArrDelay'),\n",
    "                              F.max('ArrDelay'),\n",
    "                              F.sum('ArrDelay'), \n",
    "                              F.mean('ArrDelay').alias(\"mean_delay\"),\n",
    "                              F.count('ArrDelay')).sort(desc(\"mean_delay\")).show()"
   ]
  },
  {
   "cell_type": "markdown",
   "id": "3cf78c2b",
   "metadata": {},
   "source": [
    "## Aggregate Departure delay by carrier\n",
    "<br>\n",
    "Some delays can be negative as the data might contains noise however for our analysis we ignored negative delays "
   ]
  },
  {
   "cell_type": "code",
   "execution_count": 34,
   "id": "9e437944",
   "metadata": {},
   "outputs": [
    {
     "name": "stderr",
     "output_type": "stream",
     "text": [
      "[Stage 65:====================================================>   (16 + 1) / 17]\r"
     ]
    },
    {
     "name": "stdout",
     "output_type": "stream",
     "text": [
      "+-------------+-------------+-------------+-------------+------------------+---------------+\n",
      "|UniqueCarrier|min(DepDelay)|max(DepDelay)|sum(DepDelay)|        mean_delay|count(DepDelay)|\n",
      "+-------------+-------------+-------------+-------------+------------------+---------------+\n",
      "|           EV|         -990|         1200|     20251178|13.842378317192805|        1462984|\n",
      "|           YV|          -92|          715|      8776068|13.320666453157182|         658831|\n",
      "|           B6|        -1200|         1048|      7391890|10.938793932667407|         675750|\n",
      "|           FL|          -62|         1345|     11304974|10.479318940033686|        1078789|\n",
      "|           9E|          -47|         1956|      3292021| 9.821826872012746|         335174|\n",
      "|           DH|         -810|         1050|      6448841| 9.612639389688926|         670871|\n",
      "|           UA|         -780|         1437|    121979152| 9.589739175048706|       12719757|\n",
      "|           PI|          -20|         1418|      8270140| 9.560336027984606|         865047|\n",
      "|           MQ|          -46|         1357|     32155578| 9.229619211499575|        3483955|\n",
      "|           OH|         -160|         1242|     11768679| 9.086569130147092|        1295173|\n",
      "|           WN|        -1410|          883|    135975131| 9.049208814742792|       15026190|\n",
      "|           PS|        -1345|          569|       736265| 8.928103703344409|          82466|\n",
      "|           EA|          -80|         1380|      7729299| 8.674050565435543|         891083|\n",
      "|           AS|         -720|         1140|     22741539| 8.357731922390812|        2721018|\n",
      "|           XE|         -120|          927|     16907030| 8.173048662110999|        2068632|\n",
      "|           HP|         -204|         1309|     29036032| 8.107790266585615|        3581251|\n",
      "|           AA|          -76|         1521|    110808886|  7.74668024044662|       14304048|\n",
      "|           TW|         -144|         1086|     28248677| 7.658251142217266|        3688659|\n",
      "|           DL|         -990|         1439|    121291572|  7.58417025538107|       15992728|\n",
      "|           CO|        -1010|         1187|     59264809| 7.559683167063987|        7839589|\n",
      "+-------------+-------------+-------------+-------------+------------------+---------------+\n",
      "only showing top 20 rows\n",
      "\n"
     ]
    },
    {
     "name": "stderr",
     "output_type": "stream",
     "text": [
      "\r",
      "                                                                                \r"
     ]
    }
   ],
   "source": [
    "# RDD.groupby('UniqueCarrier').agg({'ArrDelay': 'min'}).show()\n",
    "Flight_Spark_frame.groupby('UniqueCarrier').agg(F.min('DepDelay'),\n",
    "                              F.max('DepDelay'),\n",
    "                              F.sum('DepDelay'), \n",
    "                              F.mean('DepDelay').alias(\"mean_delay\"),\n",
    "                              F.count('DepDelay')).sort(desc(\"mean_delay\")).show()"
   ]
  },
  {
   "cell_type": "markdown",
   "id": "a50c4a73",
   "metadata": {},
   "source": [
    "## Unique Carriers with most arrival delays "
   ]
  },
  {
   "cell_type": "code",
   "execution_count": 37,
   "id": "6e67c668",
   "metadata": {},
   "outputs": [
    {
     "name": "stderr",
     "output_type": "stream",
     "text": [
      "[Stage 38:====================================================>   (16 + 1) / 17]\r"
     ]
    },
    {
     "name": "stdout",
     "output_type": "stream",
     "text": [
      "+-------------+-------+\n",
      "|UniqueCarrier|  count|\n",
      "+-------------+-------+\n",
      "|           DL|8146399|\n",
      "|           US|6287198|\n",
      "|           WN|6215522|\n",
      "|           AA|6184853|\n",
      "|           UA|5827008|\n",
      "|           NW|4183263|\n",
      "|           CO|3507050|\n",
      "|           HP|1834668|\n",
      "|           TW|1710340|\n",
      "|           MQ|1466108|\n",
      "|           AS|1421703|\n",
      "|           OO|1035925|\n",
      "|           XE| 876436|\n",
      "|           EV| 672932|\n",
      "|           PI| 549511|\n",
      "|           OH| 535712|\n",
      "|           FL| 472406|\n",
      "|           EA| 401460|\n",
      "|           B6| 293145|\n",
      "|           YV| 274129|\n",
      "+-------------+-------+\n",
      "only showing top 20 rows\n",
      "\n"
     ]
    },
    {
     "name": "stderr",
     "output_type": "stream",
     "text": [
      "\r",
      "                                                                                \r"
     ]
    }
   ],
   "source": [
    "Flight_Spark_frame.select(\"UniqueCarrier\",\"ArrDelay\").filter(Flight_Spark_frame[\"ArrDelay\"]>1).\\\n",
    "groupBy(\"UniqueCarrier\").count().orderBy(\"count\", ascending = False).show()"
   ]
  },
  {
   "cell_type": "markdown",
   "id": "9be2186e",
   "metadata": {},
   "source": [
    "## Unique Carriers with most departure delays  "
   ]
  },
  {
   "cell_type": "code",
   "execution_count": 35,
   "id": "cf1d3834",
   "metadata": {},
   "outputs": [
    {
     "name": "stderr",
     "output_type": "stream",
     "text": [
      "[Stage 68:====================================================>   (16 + 1) / 17]\r"
     ]
    },
    {
     "name": "stdout",
     "output_type": "stream",
     "text": [
      "+-------------+-------+\n",
      "|UniqueCarrier|  count|\n",
      "+-------------+-------+\n",
      "|           DL|6938839|\n",
      "|           US|5788996|\n",
      "|           WN|5711440|\n",
      "|           UA|5150444|\n",
      "|           AA|4948643|\n",
      "|           NW|2821979|\n",
      "|           CO|2604443|\n",
      "|           HP|1303638|\n",
      "|           TW|1204275|\n",
      "|           MQ|1200847|\n",
      "|           AS| 954471|\n",
      "|           OO| 841991|\n",
      "|           XE| 610333|\n",
      "|           EV| 589857|\n",
      "|           PI| 488605|\n",
      "|           OH| 386569|\n",
      "|           FL| 382747|\n",
      "|           B6| 272968|\n",
      "|           YV| 213224|\n",
      "|           EA| 209610|\n",
      "+-------------+-------+\n",
      "only showing top 20 rows\n",
      "\n"
     ]
    },
    {
     "name": "stderr",
     "output_type": "stream",
     "text": [
      "\r",
      "                                                                                \r"
     ]
    }
   ],
   "source": [
    "Flight_Spark_frame.select(\"UniqueCarrier\",\"DepDelay\").filter(Flight_Spark_frame[\"DepDelay\"]>1).\\\n",
    "groupBy(\"UniqueCarrier\").count().orderBy(\"count\", ascending = False).show()"
   ]
  },
  {
   "cell_type": "markdown",
   "id": "37bb1c00",
   "metadata": {},
   "source": [
    "# Data Integration"
   ]
  },
  {
   "cell_type": "markdown",
   "id": "74cc3610",
   "metadata": {},
   "source": [
    "## Merge the flight data with plane data"
   ]
  },
  {
   "cell_type": "code",
   "execution_count": 14,
   "id": "2e4f1d90",
   "metadata": {},
   "outputs": [],
   "source": [
    "plane_flight_data = Flight_Spark_frame.join(plane_Spark_frame,\"TailNum\",\"inner\")"
   ]
  },
  {
   "cell_type": "markdown",
   "id": "bc10a8b0",
   "metadata": {},
   "source": [
    "Merge the airport data for two cases arrival and departure "
   ]
  },
  {
   "cell_type": "code",
   "execution_count": 15,
   "id": "95cce913",
   "metadata": {},
   "outputs": [],
   "source": [
    "plane_flight_dep_airport_data = plane_flight_data.withColumn(\"Origin\", col(\"Origin\")).\\\n",
    "                                join(airport_Spark_frame.withColumn(\"Origin\", col(\"iata\")), on=\"Origin\")\n",
    "\n",
    "plane_flight_arr_airport_data = plane_flight_data.withColumn(\"Dest\", col(\"Dest\")).\\\n",
    "                                join(airport_Spark_frame.withColumn(\"Dest\", col(\"iata\")), on=\"Dest\")\n",
    "\n",
    "# departure_delay = spark.sql(\"SELECT *  from Flight_Data where DepDelay > 0\")\n",
    "# plane_flight_data.show()"
   ]
  },
  {
   "cell_type": "code",
   "execution_count": 16,
   "id": "90c427b4",
   "metadata": {},
   "outputs": [
    {
     "data": {
      "text/plain": [
       "['Origin',\n",
       " 'TailNum',\n",
       " 'Year',\n",
       " 'Month',\n",
       " 'DayofMonth',\n",
       " 'DayOfWeek',\n",
       " 'DepTime',\n",
       " 'CRSDepTime',\n",
       " 'ArrTime',\n",
       " 'CRSArrTime',\n",
       " 'UniqueCarrier',\n",
       " 'FlightNum',\n",
       " 'ActualElapsedTime',\n",
       " 'CRSElapsedTime',\n",
       " 'AirTime',\n",
       " 'ArrDelay',\n",
       " 'DepDelay',\n",
       " 'Dest',\n",
       " 'Distance',\n",
       " 'TaxiIn',\n",
       " 'TaxiOut',\n",
       " 'Cancelled',\n",
       " 'CancellationCode',\n",
       " 'Diverted',\n",
       " 'CarrierDelay',\n",
       " 'WeatherDelay',\n",
       " 'NASDelay',\n",
       " 'SecurityDelay',\n",
       " 'LateAircraftDelay',\n",
       " 'A_Dept_D_time',\n",
       " 'S_Dept_D_time',\n",
       " 'A_Arr_D_time',\n",
       " 'S_Arr_D_time',\n",
       " 'type',\n",
       " 'manufacturer',\n",
       " 'issue_date',\n",
       " 'model',\n",
       " 'status',\n",
       " 'aircraft_type',\n",
       " 'engine_type',\n",
       " 'year',\n",
       " 'iata',\n",
       " 'airport',\n",
       " 'city',\n",
       " 'state',\n",
       " 'country',\n",
       " 'lat',\n",
       " 'long']"
      ]
     },
     "execution_count": 16,
     "metadata": {},
     "output_type": "execute_result"
    }
   ],
   "source": [
    "plane_flight_dep_airport_data.columns"
   ]
  },
  {
   "cell_type": "markdown",
   "id": "0d199c3f",
   "metadata": {},
   "source": [
    "# Queries  for the merged table"
   ]
  },
  {
   "cell_type": "markdown",
   "id": "ebcac7c3",
   "metadata": {},
   "source": [
    "##  Departure delay wise sorting of data "
   ]
  },
  {
   "cell_type": "code",
   "execution_count": 17,
   "id": "41625f90",
   "metadata": {},
   "outputs": [
    {
     "name": "stderr",
     "output_type": "stream",
     "text": [
      "[Stage 16:====================================================>   (16 + 1) / 17]\r"
     ]
    },
    {
     "name": "stdout",
     "output_type": "stream",
     "text": [
      "+------+-------+\n",
      "|origin| countD|\n",
      "+------+-------+\n",
      "|   ATL|1548414|\n",
      "|   ORD|1234517|\n",
      "|   DFW|1120786|\n",
      "|   LAX| 649071|\n",
      "|   DEN| 630577|\n",
      "|   IAH| 548624|\n",
      "|   PHX| 526274|\n",
      "|   EWR| 505512|\n",
      "|   DTW| 500589|\n",
      "|   SFO| 491794|\n",
      "|   LAS| 408553|\n",
      "|   MSP| 405430|\n",
      "|   CVG| 372747|\n",
      "|   SEA| 364191|\n",
      "|   SLC| 319007|\n",
      "|   BOS| 315427|\n",
      "|   LGA| 314961|\n",
      "|   JFK| 278671|\n",
      "|   PHL| 269866|\n",
      "|   CLT| 260819|\n",
      "+------+-------+\n",
      "only showing top 20 rows\n",
      "\n"
     ]
    },
    {
     "name": "stderr",
     "output_type": "stream",
     "text": [
      "\r",
      "                                                                                \r"
     ]
    }
   ],
   "source": [
    "# plane_flight_dep_airport_data.groupBy(\"origin\").\\\n",
    "# agg(F.when(col(\"DepDelay\") > 0, count(\"DepDelay\"))).show()\n",
    "plane_flight_dep_airport_data.withColumn(\"DepDelay\", F.when(col(\"DepDelay\") >0,col('DepDelay'))) \\\n",
    "  .groupBy(\"origin\") \\\n",
    "  .agg(F.count(\"DepDelay\").alias(\"countD\"))\\\n",
    "  .sort(desc(\"countD\")) \\\n",
    "  .show()"
   ]
  },
  {
   "cell_type": "markdown",
   "id": "5641c283",
   "metadata": {},
   "source": [
    "##  Arrival delay wise sorting of data "
   ]
  },
  {
   "cell_type": "code",
   "execution_count": 18,
   "id": "290bbf79",
   "metadata": {},
   "outputs": [
    {
     "name": "stderr",
     "output_type": "stream",
     "text": [
      "[Stage 21:====================================================>   (16 + 1) / 17]\r"
     ]
    },
    {
     "name": "stdout",
     "output_type": "stream",
     "text": [
      "+----+-------+\n",
      "|Dest| countA|\n",
      "+----+-------+\n",
      "| ATL|1397996|\n",
      "| ORD|1198384|\n",
      "| DFW|1025967|\n",
      "| LAX| 726822|\n",
      "| DEN| 630953|\n",
      "| IAH| 613747|\n",
      "| EWR| 589076|\n",
      "| PHX| 552079|\n",
      "| SFO| 549907|\n",
      "| DTW| 480342|\n",
      "| LAS| 457244|\n",
      "| MSP| 438474|\n",
      "| SEA| 432418|\n",
      "| LGA| 421697|\n",
      "| CVG| 375216|\n",
      "| BOS| 371491|\n",
      "| SLC| 361336|\n",
      "| JFK| 306106|\n",
      "| MCO| 303688|\n",
      "| PHL| 284127|\n",
      "+----+-------+\n",
      "only showing top 20 rows\n",
      "\n"
     ]
    },
    {
     "name": "stderr",
     "output_type": "stream",
     "text": [
      "\r",
      "                                                                                \r"
     ]
    }
   ],
   "source": [
    "plane_flight_arr_airport_data.withColumn(\"ArrDelay\", F.when(col(\"ArrDelay\") >0,col('ArrDelay'))) \\\n",
    "  .groupBy(\"Dest\") \\\n",
    "  .agg(F.count(\"ArrDelay\").alias(\"countA\"))\\\n",
    "  .sort(desc(\"countA\")) \\\n",
    "  .show()"
   ]
  },
  {
   "cell_type": "markdown",
   "id": "fd1af91d",
   "metadata": {},
   "source": [
    "## Planes with the most depature delays"
   ]
  },
  {
   "cell_type": "code",
   "execution_count": 19,
   "id": "4d500f61",
   "metadata": {},
   "outputs": [
    {
     "name": "stderr",
     "output_type": "stream",
     "text": [
      "                                                                                \r"
     ]
    },
    {
     "name": "stdout",
     "output_type": "stream",
     "text": [
      "+-------+------+\n",
      "|TailNum|countD|\n",
      "+-------+------+\n",
      "| N381UA| 11904|\n",
      "| N377UA| 11764|\n",
      "| N366UA| 11742|\n",
      "| N375UA| 11727|\n",
      "| N385UA| 11550|\n",
      "| N376UA| 11545|\n",
      "| N374UA| 11481|\n",
      "| N367UA| 11479|\n",
      "| N383UA| 11444|\n",
      "| N371UA| 11375|\n",
      "| N386UA| 11333|\n",
      "| N373UA| 11331|\n",
      "| N398UA| 11321|\n",
      "| N379UA| 11313|\n",
      "| N369UA| 11194|\n",
      "| N399UA| 11139|\n",
      "| N382UA| 11119|\n",
      "| N378UA| 11086|\n",
      "| N372UA| 11011|\n",
      "| N370UA| 10917|\n",
      "+-------+------+\n",
      "only showing top 20 rows\n",
      "\n"
     ]
    }
   ],
   "source": [
    "plane_flight_dep_airport_data.withColumn(\"DepDelay\", F.when(col(\"DepDelay\") >0,col('DepDelay'))) \\\n",
    "  .groupBy(\"TailNum\") \\\n",
    "  .agg(F.count(\"DepDelay\").alias(\"countD\"))\\\n",
    "  .sort(desc(\"countD\")) \\\n",
    "  .show()"
   ]
  },
  {
   "cell_type": "code",
   "execution_count": 20,
   "id": "dc965b0c",
   "metadata": {},
   "outputs": [
    {
     "name": "stdout",
     "output_type": "stream",
     "text": [
      "root\n",
      " |-- Origin: string (nullable = true)\n",
      " |-- TailNum: string (nullable = true)\n",
      " |-- Year: string (nullable = true)\n",
      " |-- Month: string (nullable = true)\n",
      " |-- DayofMonth: string (nullable = true)\n",
      " |-- DayOfWeek: string (nullable = true)\n",
      " |-- DepTime: string (nullable = true)\n",
      " |-- CRSDepTime: string (nullable = true)\n",
      " |-- ArrTime: string (nullable = true)\n",
      " |-- CRSArrTime: string (nullable = true)\n",
      " |-- UniqueCarrier: string (nullable = true)\n",
      " |-- FlightNum: string (nullable = true)\n",
      " |-- ActualElapsedTime: string (nullable = true)\n",
      " |-- CRSElapsedTime: string (nullable = true)\n",
      " |-- AirTime: string (nullable = true)\n",
      " |-- ArrDelay: integer (nullable = true)\n",
      " |-- DepDelay: integer (nullable = true)\n",
      " |-- Dest: string (nullable = true)\n",
      " |-- Distance: string (nullable = true)\n",
      " |-- TaxiIn: string (nullable = true)\n",
      " |-- TaxiOut: string (nullable = true)\n",
      " |-- Cancelled: string (nullable = true)\n",
      " |-- CancellationCode: string (nullable = true)\n",
      " |-- Diverted: string (nullable = true)\n",
      " |-- CarrierDelay: integer (nullable = true)\n",
      " |-- WeatherDelay: integer (nullable = true)\n",
      " |-- NASDelay: integer (nullable = true)\n",
      " |-- SecurityDelay: integer (nullable = true)\n",
      " |-- LateAircraftDelay: integer (nullable = true)\n",
      " |-- A_Dept_D_time: timestamp (nullable = true)\n",
      " |-- S_Dept_D_time: timestamp (nullable = true)\n",
      " |-- A_Arr_D_time: timestamp (nullable = true)\n",
      " |-- S_Arr_D_time: timestamp (nullable = true)\n",
      " |-- type: string (nullable = true)\n",
      " |-- manufacturer: string (nullable = true)\n",
      " |-- issue_date: string (nullable = true)\n",
      " |-- model: string (nullable = true)\n",
      " |-- status: string (nullable = true)\n",
      " |-- aircraft_type: string (nullable = true)\n",
      " |-- engine_type: string (nullable = true)\n",
      " |-- year: string (nullable = true)\n",
      " |-- iata: string (nullable = true)\n",
      " |-- airport: string (nullable = true)\n",
      " |-- city: string (nullable = true)\n",
      " |-- state: string (nullable = true)\n",
      " |-- country: string (nullable = true)\n",
      " |-- lat: string (nullable = true)\n",
      " |-- long: string (nullable = true)\n",
      "\n"
     ]
    }
   ],
   "source": [
    "plane_flight_dep_airport_data.printSchema()"
   ]
  },
  {
   "cell_type": "markdown",
   "id": "e525cc5d",
   "metadata": {},
   "source": [
    "## Plane condition that suffer the most departure delays"
   ]
  },
  {
   "cell_type": "code",
   "execution_count": 21,
   "id": "e5f843ca",
   "metadata": {},
   "outputs": [
    {
     "name": "stdout",
     "output_type": "stream",
     "text": [
      "22/12/05 15:26:19 WARN package: Truncated the string representation of a plan since it was too large. This behavior can be adjusted by setting 'spark.sql.debug.maxToStringFields'.\n"
     ]
    },
    {
     "name": "stderr",
     "output_type": "stream",
     "text": [
      "[Stage 31:====================================================>   (16 + 1) / 17]\r"
     ]
    },
    {
     "name": "stdout",
     "output_type": "stream",
     "text": [
      "+-------------------+-------+--------+-----------------+----------+--------+------+--------------------+\n",
      "|      S_Dept_D_time|TailNum|DepDelay|     manufacturer|issue_date|   model|status|       aircraft_type|\n",
      "+-------------------+-------+--------+-----------------+----------+--------+------+--------------------+\n",
      "|2007-10-03 12:59:00| N329NW|    2601| AIRBUS INDUSTRIE|05/05/1992|A320-211| Valid|Fixed Wing Multi-...|\n",
      "|2008-04-10 14:17:00| N3324L|    2467|          DOUGLAS|12/02/1994| DC-9-32| Valid|Fixed Wing Multi-...|\n",
      "|2008-02-03 18:20:00| N817NW|    2457|           AIRBUS|06/06/2007|A330-323| Valid|Fixed Wing Multi-...|\n",
      "|2007-10-02 17:20:00| N816NW|    1831|           AIRBUS|04/05/2007|A330-323| Valid|Fixed Wing Multi-...|\n",
      "|2006-10-12 15:16:00| N784NC|    1752|MCDONNELL DOUGLAS|01/06/1999| DC-9-51| Valid|Fixed Wing Multi-...|\n",
      "|2005-07-21 14:10:00|  N940N|    1732|MCDONNELL DOUGLAS|12/22/1986| DC-9-32| Valid|Fixed Wing Multi-...|\n",
      "|2005-02-26 14:55:00| N320US|    1676| AIRBUS INDUSTRIE|09/22/2004|A320-211| Valid|Fixed Wing Multi-...|\n",
      "|2006-07-19 13:07:00| N340NW|    1666| AIRBUS INDUSTRIE|07/11/2007|A320-212| Valid|Fixed Wing Multi-...|\n",
      "|2006-03-13 13:55:00| N322NB|    1648| AIRBUS INDUSTRIE|02/22/2001|A319-114| Valid|Fixed Wing Multi-...|\n",
      "|2005-09-28 16:10:00|  N9343|    1637|          DOUGLAS|12/22/1986| DC-9-31| Valid|Fixed Wing Multi-...|\n",
      "|2005-09-26 12:30:00| N536US|    1617|           BOEING|12/26/1995| 757-251| Valid|Fixed Wing Multi-...|\n",
      "|2005-01-21 12:10:00| N373NW|    1616| AIRBUS INDUSTRIE|12/12/2001|A320-212| Valid|Fixed Wing Multi-...|\n",
      "|2004-07-03 12:06:00| N752NW|    1596|          DOUGLAS|07/01/1996| DC-9-41| Valid|Fixed Wing Multi-...|\n",
      "|2005-12-15 12:00:00| N8928E|    1591|          DOUGLAS|08/02/1994| DC-9-31| Valid|Fixed Wing Multi-...|\n",
      "|2003-12-20 16:00:00| N511US|    1582|           BOEING|01/16/2004| 757-251| Valid|Fixed Wing Multi-...|\n",
      "|1998-04-24 14:25:00| N532US|    1560|           BOEING|12/14/1988| 757-251| Valid|Fixed Wing Multi-...|\n",
      "|2007-03-16 11:24:00| N364NW|    1547| AIRBUS INDUSTRIE|12/23/1999|A320-212| Valid|Fixed Wing Multi-...|\n",
      "|2008-04-27 16:33:00| N8986E|    1545|          DOUGLAS|05/01/1995| DC-9-31| Valid|Fixed Wing Multi-...|\n",
      "|2007-09-05 11:50:00| N8921E|    1529|          DOUGLAS|08/02/1994| DC-9-31| Valid|Fixed Wing Multi-...|\n",
      "|2008-03-08 11:35:00| N3CDAA|    1521|             null|      null|    null|  null|                null|\n",
      "+-------------------+-------+--------+-----------------+----------+--------+------+--------------------+\n",
      "only showing top 20 rows\n",
      "\n"
     ]
    },
    {
     "name": "stderr",
     "output_type": "stream",
     "text": [
      "\r",
      "                                                                                \r"
     ]
    }
   ],
   "source": [
    "plane_flight_dep_airport_data.createOrReplaceTempView(\"Flight_plane_Table\")\n",
    "FL_carrier = spark.sql(\"SELECT S_Dept_D_time,TailNum,DepDelay,manufacturer,issue_date,model,status,aircraft_type from Flight_plane_Table  where   S_Dept_D_time IS NOT NULL and DepDelay>0 ORDER BY DepDelay DESC \").show()\n",
    "#  TailNum='N381UA' and TailNum IS NOT NULL and\n",
    "# plane_flight_dep_airport_data.select(col(\"TailNum\"),col(\"DepDelay\"),col(\"manufacturer\"),col(\"issue_date\"),\\\n",
    "#                                      col(\"model\"),col(\"status\"),col(\"aircraft_type\"),col(\"engine_type\"))\\\n",
    "#                 .withColumn(\"DepDelay\", F.when((col(\"DepDelay\") >0) & (col(\"DepDelay\").isNotNull()),col('DepDelay'))) \\\n",
    "#                 .withColumn(\"TailNum\", F.when(col(\"TailNum\") ==\"N381UA\",col('TailNum'))).show()"
   ]
  },
  {
   "cell_type": "code",
   "execution_count": 23,
   "id": "10329f31",
   "metadata": {},
   "outputs": [],
   "source": [
    "# FL_carrier.select(col(\"TailNum\")).distinct().show()"
   ]
  },
  {
   "cell_type": "code",
   "execution_count": 24,
   "id": "1e7078af",
   "metadata": {},
   "outputs": [],
   "source": [
    "# arr_delay_planes = spark.sql(\"SELECT S_Arr_D_time,TailNum,ArrDelay,manufacturer,issue_date,model,status,aircraft_type from Flight_plane_Table  where TailNum='N381UA' and TailNum IS NOT NULL and S_Arr_D_time IS NOT NULL and ArrDelay>0 ORDER BY ArrDelay DESC \")"
   ]
  },
  {
   "cell_type": "code",
   "execution_count": 36,
   "id": "0dbbed46",
   "metadata": {},
   "outputs": [],
   "source": [
    "# arr_delay_planes.select(col(\"TailNum\")).distinct().show()"
   ]
  },
  {
   "cell_type": "code",
   "execution_count": 38,
   "id": "b0a2bb98",
   "metadata": {},
   "outputs": [],
   "source": [
    "# plane_flight_data.printSchema()"
   ]
  },
  {
   "cell_type": "markdown",
   "id": "7977f9a6",
   "metadata": {},
   "source": [
    "# Seasonality"
   ]
  },
  {
   "cell_type": "markdown",
   "id": "0ac0e9e0",
   "metadata": {},
   "source": [
    "## Monthwise Departure Delay"
   ]
  },
  {
   "cell_type": "code",
   "execution_count": 27,
   "id": "fd0c6ed2",
   "metadata": {},
   "outputs": [
    {
     "name": "stderr",
     "output_type": "stream",
     "text": [
      "                                                                                \r"
     ]
    }
   ],
   "source": [
    "monthwiseDelay = Flight_Spark_frame.withColumn(\"DepDelay\", F.when(col(\"DepDelay\") >0,col('DepDelay'))) \\\n",
    "                    .groupBy(\"Month\").pivot(\"Year\").agg(F.avg('DepDelay'))"
   ]
  },
  {
   "cell_type": "markdown",
   "id": "a7dc9a47",
   "metadata": {},
   "source": [
    "## Transform Into pandas for matplotlib"
   ]
  },
  {
   "cell_type": "code",
   "execution_count": 28,
   "id": "09e85bba",
   "metadata": {},
   "outputs": [
    {
     "name": "stderr",
     "output_type": "stream",
     "text": [
      "                                                                                \r"
     ]
    }
   ],
   "source": [
    "collected = monthwiseDelay.select('month', '2004','2005','2006','2007').toPandas()"
   ]
  },
  {
   "cell_type": "markdown",
   "id": "ae7cb030",
   "metadata": {},
   "source": [
    "## Plot of the departure delay tree for four different years"
   ]
  },
  {
   "cell_type": "code",
   "execution_count": 29,
   "id": "4796d451",
   "metadata": {},
   "outputs": [
    {
     "name": "stdout",
     "output_type": "stream",
     "text": [
      "    month       2004       2005       2006       2007\n",
      "7       1  29.845477  31.771149  30.190263  29.724318\n",
      "11      2  27.389670  28.664677  29.698857  33.213643\n",
      "2       3  26.449150  29.914092  30.093858  31.308248\n",
      "9       4  24.479890  25.554724  28.493630  29.801664\n",
      "4       5  32.743601  26.102963  29.459837  27.607090\n",
      "5       6  32.160975  32.067686  33.007814  35.693256\n",
      "0       7  30.836980  36.503573  31.799916  34.465712\n",
      "3       8  29.931858  31.091419  29.768051  33.299069\n",
      "6       9  25.784744  24.816867  31.111937  27.212479\n",
      "8      10  24.427324  27.277608  31.079445  28.307486\n",
      "1      11  28.805953  26.695329  28.132706  27.582431\n",
      "10     12  32.405894  30.220933  32.269749  35.194796\n"
     ]
    },
    {
     "data": {
      "image/png": "[encoded data removed]",
      "text/plain": [
       "<Figure size 640x480 with 1 Axes>"
      ]
     },
     "metadata": {},
     "output_type": "display_data"
    }
   ],
   "source": [
    "collected['month'] = collected['month'].astype(int)\n",
    "collected = collected.sort_values(by=['month'], ascending=True)\n",
    "print(collected)\n",
    "monthlist = list(collected['month'])\n",
    "delay_2004 = list(collected['2004'])\n",
    "delay_2005 = list(collected['2005'])\n",
    "delay_2006 = list(collected['2006'])\n",
    "delay_2007 = list(collected['2007'])\n",
    "\n",
    "plt.plot(monthlist, delay_2004,label='2004',marker = 'D')\n",
    "plt.plot(monthlist, delay_2005,label='2005',marker = 'o')\n",
    "plt.plot(monthlist, delay_2006,label='2006',marker = 'v')\n",
    "plt.plot(monthlist, delay_2007,label='2007',marker = '<')\n",
    "\n",
    "plt.ylabel('Mean Departure Delay')\n",
    "plt.xlabel('Month')\n",
    "plt.title('Month Wise Mean Departure Delay')\n",
    "plt.legend()\n",
    "plt.savefig('delayTrend.png', bbox_inches='tight')\n",
    "plt.show()"
   ]
  },
  {
   "cell_type": "markdown",
   "id": "c817c9f5",
   "metadata": {},
   "source": [
    "## Monthwise Arrival Delay"
   ]
  },
  {
   "cell_type": "code",
   "execution_count": 30,
   "id": "c36d3004",
   "metadata": {},
   "outputs": [
    {
     "name": "stderr",
     "output_type": "stream",
     "text": [
      "                                                                                \r"
     ]
    }
   ],
   "source": [
    "monthwiseArrDelay = Flight_Spark_frame.withColumn(\"ArrDelay\", F.when(col(\"ArrDelay\") >0,col('ArrDelay'))) \\\n",
    "                    .groupBy(\"Month\").pivot(\"Year\").agg(F.avg('ArrDelay'))"
   ]
  },
  {
   "cell_type": "markdown",
   "id": "a9c86bd2",
   "metadata": {},
   "source": [
    "## Transform to pandas for plotting "
   ]
  },
  {
   "cell_type": "code",
   "execution_count": 31,
   "id": "9b0d51b2",
   "metadata": {},
   "outputs": [
    {
     "name": "stderr",
     "output_type": "stream",
     "text": [
      "                                                                                \r"
     ]
    }
   ],
   "source": [
    "collected = monthwiseArrDelay.select('month', '2004','2005','2006','2007').toPandas()"
   ]
  },
  {
   "cell_type": "markdown",
   "id": "747274fd",
   "metadata": {},
   "source": [
    "## Plot the arrival trend in four different years"
   ]
  },
  {
   "cell_type": "code",
   "execution_count": 32,
   "id": "fe9ea23a",
   "metadata": {},
   "outputs": [
    {
     "name": "stdout",
     "output_type": "stream",
     "text": [
      "    month       2004       2005       2006       2007\n",
      "7       1  28.534699  30.916874  28.441847  30.516488\n",
      "11      2  25.783051  26.773322  28.637786  34.166048\n",
      "2       3  24.545130  28.338166  28.928957  32.365418\n",
      "9       4  22.383505  23.053556  27.267845  30.420432\n",
      "4       5  31.400010  23.705008  28.194171  28.222023\n",
      "5       6  31.944669  31.387476  33.745502  37.878617\n",
      "0       7  30.532900  36.819334  33.765102  36.004844\n",
      "3       8  29.015292  30.188272  30.683293  34.677752\n",
      "6       9  23.426948  22.916640  30.716579  26.815686\n",
      "8      10  22.559104  24.854837  31.258670  27.994961\n",
      "1      11  26.645137  25.618318  28.922220  27.155268\n",
      "10     12  31.243305  30.004571  33.215441  36.506249\n"
     ]
    },
    {
     "data": {
      "image/png": "[encoded data removed]",
      "text/plain": [
       "<Figure size 640x480 with 1 Axes>"
      ]
     },
     "metadata": {},
     "output_type": "display_data"
    }
   ],
   "source": [
    "collected['month'] = collected['month'].astype(int)\n",
    "collected = collected.sort_values(by=['month'], ascending=True)\n",
    "print(collected)\n",
    "monthlist = list(collected['month'])\n",
    "delay_2004 = list(collected['2004'])\n",
    "delay_2005 = list(collected['2005'])\n",
    "delay_2006 = list(collected['2006'])\n",
    "delay_2007 = list(collected['2007'])\n",
    "\n",
    "plt.plot(monthlist, delay_2004,label='2004',marker = 'D')\n",
    "plt.plot(monthlist, delay_2005,label='2005',marker = 'o')\n",
    "plt.plot(monthlist, delay_2006,label='2006',marker = 'v')\n",
    "plt.plot(monthlist, delay_2007,label='2007',marker = '<')\n",
    "\n",
    "plt.ylabel('Mean Arrival Delay')\n",
    "plt.xlabel('Month')\n",
    "plt.title('Month Wise Mean Arrival Delay')\n",
    "plt.legend()\n",
    "plt.savefig('arrival.png', bbox_inches='tight')\n",
    "plt.show()"
   ]
  },
  {
   "cell_type": "code",
   "execution_count": null,
   "id": "280d8a22",
   "metadata": {},
   "outputs": [],
   "source": []
  }
 ],
 "metadata": {
  "kernelspec": {
   "display_name": "Python 3 (ipykernel)",
   "language": "python",
   "name": "python3"
  },
  "language_info": {
   "codemirror_mode": {
    "name": "ipython",
    "version": 3
   },
   "file_extension": ".py",
   "mimetype": "text/x-python",
   "name": "python",
   "nbconvert_exporter": "python",
   "pygments_lexer": "ipython3",
   "version": "3.9.12"
  }
 },
 "nbformat": 4,
 "nbformat_minor": 5
}
